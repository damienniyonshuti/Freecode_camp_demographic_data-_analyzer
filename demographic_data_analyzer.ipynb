{
 "cells": [
  {
   "cell_type": "code",
   "execution_count": 2,
   "id": "3825a93d-b7b3-41e1-a5c7-a30d027c25d6",
   "metadata": {},
   "outputs": [],
   "source": [
    "import pandas as pd\n",
    "import numpy as np"
   ]
  },
  {
   "cell_type": "code",
   "execution_count": 208,
   "id": "8e0247fe-eb80-415a-886c-b209d2709f12",
   "metadata": {
    "tags": []
   },
   "outputs": [],
   "source": [
    "df=pd.read_csv(\"adult.data.csv\")"
   ]
  },
  {
   "cell_type": "code",
   "execution_count": 138,
   "id": "f5e25040-5017-4403-935e-4e92bd04b620",
   "metadata": {},
   "outputs": [
    {
     "name": "stdout",
     "output_type": "stream",
     "text": [
      "White                 27816\n",
      "Black                  3124\n",
      "Asian-Pac-Islander     1039\n",
      "Amer-Indian-Eskimo      311\n",
      "Other                   271\n",
      "Name: race, dtype: int64\n"
     ]
    }
   ],
   "source": [
    "race_count=round(df['race'].value_counts(), 1)\n",
    "print(race_count)"
   ]
  },
  {
   "cell_type": "code",
   "execution_count": 111,
   "id": "2ff3b4d4-ec42-4c6f-ba68-50053bb3684c",
   "metadata": {},
   "outputs": [
    {
     "data": {
      "text/plain": [
       "39.4"
      ]
     },
     "execution_count": 111,
     "metadata": {},
     "output_type": "execute_result"
    }
   ],
   "source": [
    "average_age_men= round(df[df['sex']=='Male']['age'].mean(),1)\n",
    "average_age_men"
   ]
  },
  {
   "cell_type": "code",
   "execution_count": 125,
   "id": "e1dcbb0f-032e-4433-b711-771d90efa427",
   "metadata": {},
   "outputs": [
    {
     "name": "stdout",
     "output_type": "stream",
     "text": [
      "16.4\n"
     ]
    }
   ],
   "source": [
    "percentage_education=df['education'].value_counts(normalize=True)\n",
    "percentage_bachelors=round(percentage_education.Bachelors*100, 1)\n",
    "#print(percentage_bachelors)"
   ]
  },
  {
   "cell_type": "code",
   "execution_count": 73,
   "id": "931ecd15-1f01-434e-a6cd-c27bc02f9598",
   "metadata": {},
   "outputs": [
    {
     "data": {
      "text/plain": [
       "46.5"
      ]
     },
     "execution_count": 73,
     "metadata": {},
     "output_type": "execute_result"
    }
   ],
   "source": [
    "higher_education = df[df['education'].isin(['Bachelors', 'Masters', 'Doctorate'])]\n",
    "higher_education_rich= round(len(higher_education[higher_education['salary'] =='>50K'])/len(higher_education)*100, 1)\n",
    "higher_education_rich"
   ]
  },
  {
   "cell_type": "code",
   "execution_count": 80,
   "id": "7be724e2-bca0-4663-878f-76a2d4494f9c",
   "metadata": {},
   "outputs": [
    {
     "data": {
      "text/plain": [
       "21.6"
      ]
     },
     "execution_count": 80,
     "metadata": {},
     "output_type": "execute_result"
    }
   ],
   "source": [
    "lower_education=df[~df['education'].isin(['Bachelor','Masters', 'Doctorate'])]\n",
    "lower_education_rich= round(len(lower_education[lower_education['salary'] == '>50K'])/len(lower_education)*100, 1)\n",
    "lower_education_rich"
   ]
  },
  {
   "cell_type": "code",
   "execution_count": 204,
   "id": "7b0c5ac8-dd4a-49e6-9299-8e770eaf7f3c",
   "metadata": {},
   "outputs": [
    {
     "data": {
      "text/plain": [
       "1"
      ]
     },
     "execution_count": 204,
     "metadata": {},
     "output_type": "execute_result"
    }
   ],
   "source": [
    "min_work_hours= round(df['hours-per-week'].min(),1)\n",
    "min_work_hours"
   ]
  },
  {
   "cell_type": "code",
   "execution_count": 206,
   "id": "012098d8-3802-4dc2-9696-8e4e88eaaf00",
   "metadata": {},
   "outputs": [
    {
     "data": {
      "text/plain": [
       "20"
      ]
     },
     "execution_count": 206,
     "metadata": {},
     "output_type": "execute_result"
    }
   ],
   "source": [
    "num_min_workers= round(len(df[df['hours-per-week'] ==min_work_hours]),1)\n",
    "num_min_workers"
   ]
  },
  {
   "cell_type": "code",
   "execution_count": 207,
   "id": "7f5636a6-efa3-4b6c-a7e2-3613966851a2",
   "metadata": {},
   "outputs": [
    {
     "data": {
      "text/plain": [
       "10.0"
      ]
     },
     "execution_count": 207,
     "metadata": {},
     "output_type": "execute_result"
    }
   ],
   "source": [
    "rich_percentage =round(len(df[(df['hours-per-week'] == min_work_hours) & (df['salary'] == '>50K')]) / num_min_workers * 100,1)\n",
    "rich_percentage"
   ]
  },
  {
   "cell_type": "code",
   "execution_count": 202,
   "id": "65eb681c-8409-487a-8294-a0c43c07ebfa",
   "metadata": {},
   "outputs": [
    {
     "data": {
      "text/plain": [
       "'United-States'"
      ]
     },
     "execution_count": 202,
     "metadata": {},
     "output_type": "execute_result"
    }
   ],
   "source": [
    "country = df[df['salary']==\">50K\"][['native-country']]\n",
    "highest_earning_country_table = country.describe()\n",
    "highest_earning_country=highest_earning_country_details.loc['top', 'native-country']\n",
    "highest_earning_country"
   ]
  },
  {
   "cell_type": "code",
   "execution_count": 210,
   "id": "a1f8bf0f-3051-4118-8e3d-0a2a62d80197",
   "metadata": {},
   "outputs": [
    {
     "data": {
      "text/plain": [
       "24.6"
      ]
     },
     "execution_count": 210,
     "metadata": {},
     "output_type": "execute_result"
    }
   ],
   "source": [
    "highest_earning_country_percentage = round(len(df[(df['native-country'] == highest_earning_country) & (df['salary'] == '>50K')]) / len(df[(df['native-country'] == highest_earning_country)])*100,1)\n",
    "highest_earning_country_percentage"
   ]
  },
  {
   "cell_type": "code",
   "execution_count": 165,
   "id": "f21e9ab1-33d0-448d-9724-98c9b6c0a4bb",
   "metadata": {},
   "outputs": [
    {
     "data": {
      "text/plain": [
       "'Prof-specialty'"
      ]
     },
     "execution_count": 165,
     "metadata": {},
     "output_type": "execute_result"
    }
   ],
   "source": [
    "india_df=df[df['native-country'] =='India']\n",
    "rich_india= india_df[india_df['salary']=='>50K']\n",
    "occup=rich_india.groupby('occupation')['occupation'].count()\n",
    "top_IN_occupation=occup[occup==occup.max()].index.values[0]\n",
    "top_IN_occupation"
   ]
  }
 ],
 "metadata": {
  "kernelspec": {
   "display_name": "Python 3",
   "language": "python",
   "name": "python3"
  },
  "language_info": {
   "codemirror_mode": {
    "name": "ipython",
    "version": 3
   },
   "file_extension": ".py",
   "mimetype": "text/x-python",
   "name": "python",
   "nbconvert_exporter": "python",
   "pygments_lexer": "ipython3",
   "version": "3.8.8"
  }
 },
 "nbformat": 4,
 "nbformat_minor": 5
}
